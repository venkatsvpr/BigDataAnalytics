{
 "cells": [
  {
   "cell_type": "code",
   "execution_count": 65,
   "metadata": {
    "scrolled": true
   },
   "outputs": [
    {
     "name": "stdout",
     "output_type": "stream",
     "text": [
      "[nltk_data] Downloading package stopwords to\n",
      "[nltk_data]     C:\\Users\\prati\\AppData\\Roaming\\nltk_data...\n",
      "[nltk_data]   Package stopwords is already up-to-date!\n"
     ]
    }
   ],
   "source": [
    "from nltk.tokenize import word_tokenize\n",
    "import re\n",
    "import pandas as pd\n",
    "from nltk.corpus import stopwords\n",
    "import string\n",
    "\n",
    "import nltk\n",
    "nltk.download('stopwords')\n",
    "\n",
    "emoticons_str = r\"\"\"\n",
    "    (?:\n",
    "        [:=;] # Eyes\n",
    "        [oO\\-]? # Nose (optional)\n",
    "        [D\\)\\]\\(\\]/\\\\OpP] # Mouth\n",
    "    )\"\"\"\n",
    " \n",
    "regex_str = [\n",
    "    emoticons_str,\n",
    "    r'<[^>]+>', # HTML tags\n",
    "    r'(?:@[\\w_]+)', # @-mentions\n",
    "    r\"(?:\\#+[\\w_]+[\\w\\'_\\-]*[\\w_]+)\", # hash-tags\n",
    "    r'http[s]?://(?:[a-z]|[0-9]|[$-_@.&amp;+]|[!*\\(\\),]|(?:%[0-9a-f][0-9a-f]))+', # URLs \n",
    "    r'(?:(?:\\d+,?)+(?:\\.?\\d+)?)', # numbers\n",
    "    r\"(?:[a-z][a-z'\\-_]+[a-z])\", # words with - and '\n",
    "    r'(?:[\\w_]+)', # other words\n",
    "    r'(?:\\S)' # anything else\n",
    "]\n",
    "\n",
    "delete_str = [\n",
    "    emoticons_str,\n",
    "    r'<[^>]+>', # HTML tags\n",
    "    r'(?:@[\\w_]+)', # @-mentions\n",
    "    r\"(?:\\#+[\\w_]+[\\w\\'_\\-]*[\\w_]+)\", # hash-tags\n",
    "    r'http[s]?://(?:[a-z]|[0-9]|[$-_@.&amp;+]|[!*\\(\\),]|(?:%[0-9a-f][0-9a-f]))+', # URLs \n",
    "    r'(?:(?:\\d+,?)+(?:\\.?\\d+)?)', # numbers\n",
    "    r'[^\\x00-\\x7f]' #hex characters    \n",
    "    #r\"(?:[a-z][a-z'\\-_]+[a-z])\" # words with - and '\n",
    "    #r'(?:[\\w_]+)', # other words\n",
    "    #r'(?:\\S)' # anything else\n",
    "]\n",
    "\n",
    "tokens_re = re.compile(r'('+'|'.join(regex_str)+')', re.VERBOSE | re.IGNORECASE)\n",
    "emoticon_re = re.compile(r'^'+emoticons_str+'$', re.VERBOSE | re.IGNORECASE)\n",
    "delete_re = re.compile(r'('+'|'.join(delete_str)+')', re.VERBOSE | re.IGNORECASE)\n",
    "\n",
    "def tokenize(s):\n",
    "    tokens = tokens_re.findall(s)\n",
    "    tokens = [token for token in tokens if not delete_re.search(token)]   \n",
    "    return tokens\n",
    "\n",
    "data = pd.read_csv(\"Twitter/TestData.csv\")\n",
    "actual_data[\"text\"] = data[\"text\"]\n",
    "\n",
    "punctuation = list(string.punctuation)\n",
    "stop = stopwords.words('english') + punctuation + ['RT', 'via']\n",
    "\n",
    "for tweet in actual_data.text:\n",
    "    line = [term for term in tokenize(tweet) if term not in stop]\n",
    "    line = ' '.join(line)\n",
    "    #print line\n",
    "    \n",
    "\n",
    "#tweet = 'RT @marcobonzanini: just an example! :D http://example.com #NLP'\n",
    "#print(tokenize(tweet))\n",
    "# ['RT', '@marcobonzanini', ':', 'just', 'an', 'example', '!', ':D', 'http://example.com', '#NLP']\n"
   ]
  },
  {
   "cell_type": "code",
   "execution_count": 64,
   "metadata": {},
   "outputs": [],
   "source": [
    "data = pd.read_csv(\"Twitter/TestData.csv\")\n",
    "actual_data[\"text\"] = data[\"text\"]\n",
    "f = open(\"Twitter/TestData.txt\",\"w+\")\n",
    "\n",
    "for text in actual_data.text:\n",
    "    f.write(text)\n",
    "f.close()"
   ]
  },
  {
   "cell_type": "code",
   "execution_count": null,
   "metadata": {},
   "outputs": [],
   "source": [
    "import urllib2\n",
    "import json\n",
    "from os import listdir\n",
    "from bs4 import BeautifulSoup\n",
    "\n",
    "file_names = [f for f in listdir(\"NyTimes/Collection/april_3\")]\n",
    "ff = open(\"NyTimes/Collection/april_3.txt\",\"w+\")\n",
    "\n",
    "for name in file_names:\n",
    "    data = open('NyTimes/Collection/april_3/' + name).read()\n",
    "    frame_data = json.loads(data)\n",
    "    \n",
    "    for item in range(len(frame_data['response']['docs'])):\n",
    "        html = frame_data['response']['docs'][item]['web_url']\n",
    "        f = urllib2.urlopen(html)\n",
    "        html_doc = f.read()\n",
    "        soup = BeautifulSoup(html_doc, 'html.parser')\n",
    "        \n",
    "        for article in soup.find_all('article'):\n",
    "            for para in article.find_all('p'):\n",
    "                ff.write(para.get_text().encode('utf-8'))\n",
    "                \n",
    "ff.close()"
   ]
  }
 ],
 "metadata": {
  "kernelspec": {
   "display_name": "Python 3",
   "language": "python",
   "name": "python3"
  },
  "language_info": {
   "codemirror_mode": {
    "name": "ipython",
    "version": 3
   },
   "file_extension": ".py",
   "mimetype": "text/x-python",
   "name": "python",
   "nbconvert_exporter": "python",
   "pygments_lexer": "ipython3",
   "version": "3.6.4"
  }
 },
 "nbformat": 4,
 "nbformat_minor": 2
}
