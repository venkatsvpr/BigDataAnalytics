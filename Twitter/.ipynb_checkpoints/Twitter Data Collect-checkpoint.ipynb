{
 "cells": [
  {
   "cell_type": "code",
   "execution_count": 2,
   "metadata": {},
   "outputs": [
    {
     "name": "stderr",
     "output_type": "stream",
     "text": [
      "Installing package into 'C:/Users/krish/OneDrive/Documents/R/win-library/3.4'\n",
      "(as 'lib' is unspecified)\n"
     ]
    },
    {
     "name": "stdout",
     "output_type": "stream",
     "text": [
      "package 'rtweet' successfully unpacked and MD5 sums checked\n",
      "\n",
      "The downloaded binary packages are in\n",
      "\tC:\\Users\\krish\\AppData\\Local\\Temp\\RtmpSW7H2q\\downloaded_packages\n"
     ]
    },
    {
     "name": "stderr",
     "output_type": "stream",
     "text": [
      "Welcome to rtweet v0.4.0!\n"
     ]
    }
   ],
   "source": [
    "install.packages(\"rtweet\")\n",
    "library(rtweet)"
   ]
  },
  {
   "cell_type": "code",
   "execution_count": 5,
   "metadata": {},
   "outputs": [
    {
     "name": "stderr",
     "output_type": "stream",
     "text": [
      "Searching for tweets...\n",
      "Finished collecting tweets!\n"
     ]
    }
   ],
   "source": [
    "twitter_token <- create_token(app = \"Flu-DIC\",\n",
    "  consumer_key = \"xgvjoIF559swyiqYbI8vHFIgj\",\n",
    "  consumer_secret = \"FQNVuBaV6wcuwL237056KCUrMVF8mvivmFZHL8qVYitqbozvPU\")\n",
    "\n",
    "tweets <- search_tweets(q = \"facebook\", n = 20000, token = twitter_token)\n",
    "save_as_csv(tweets,\"twitter_facebook_March_29.csv\")"
   ]
  }
 ],
 "metadata": {
  "kernelspec": {
   "display_name": "R",
   "language": "R",
   "name": "ir"
  },
  "language_info": {
   "codemirror_mode": "r",
   "file_extension": ".r",
   "mimetype": "text/x-r-source",
   "name": "R",
   "pygments_lexer": "r",
   "version": "3.4.3"
  }
 },
 "nbformat": 4,
 "nbformat_minor": 2
}
