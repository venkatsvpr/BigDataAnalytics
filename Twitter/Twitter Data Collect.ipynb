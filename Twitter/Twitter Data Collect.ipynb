{
 "cells": [
  {
   "cell_type": "code",
   "execution_count": 6,
   "metadata": {},
   "outputs": [],
   "source": [
    "#install.packages(\"rtweet\")\n",
    "library(rtweet)"
   ]
  },
  {
   "cell_type": "code",
   "execution_count": 7,
   "metadata": {},
   "outputs": [
    {
     "name": "stderr",
     "output_type": "stream",
     "text": [
      "Searching for tweets...\n",
      "Warning message:\n",
      "\"rate limit exceeded.\"Finished collecting tweets!\n"
     ]
    }
   ],
   "source": [
    "twitter_token <- create_token(app = \"Flu-DIC\",\n",
    "  consumer_key = \"xgvjoIF559swyiqYbI8vHFIgj\",\n",
    "  consumer_secret = \"FQNVuBaV6wcuwL237056KCUrMVF8mvivmFZHL8qVYitqbozvPU\")\n",
    "\n",
    "tweets <- search_tweets(q = \"facebook\", n = 20000, token = twitter_token)\n",
    "save_as_csv(tweets,\"twitter_facebook_April_4.csv\")"
   ]
  }
 ],
 "metadata": {
  "kernelspec": {
   "display_name": "Python 2",
   "language": "python",
   "name": "python2"
  },
  "language_info": {
   "codemirror_mode": {
    "name": "ipython",
    "version": 2
   },
   "file_extension": ".py",
   "mimetype": "text/x-python",
   "name": "python",
   "nbconvert_exporter": "python",
   "pygments_lexer": "ipython2",
   "version": "2.7.14"
  }
 },
 "nbformat": 4,
 "nbformat_minor": 2
}
