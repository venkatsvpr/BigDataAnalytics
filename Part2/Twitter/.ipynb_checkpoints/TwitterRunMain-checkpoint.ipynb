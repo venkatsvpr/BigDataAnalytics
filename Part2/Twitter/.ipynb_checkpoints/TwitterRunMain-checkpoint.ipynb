{
 "cells": [
  {
   "cell_type": "code",
   "execution_count": 2,
   "metadata": {},
   "outputs": [
    {
     "name": "stdout",
     "output_type": "stream",
     "text": [
      "[1] \"Using browser based authentication\"\n"
     ]
    },
    {
     "name": "stderr",
     "output_type": "stream",
     "text": [
      "Waiting for authentication in browser...\n",
      "Press Esc/Ctrl + C to abort\n",
      "Please point your browser to the following url: \n",
      "https://api.twitter.com/oauth/authenticate?oauth_token=38jw3wAAAAAA4ZEsAAABYpxwcrg&permission=read\n",
      "Authentication complete.\n",
      "Warning message in doRppAPICall(\"search/tweets\", n, params = params, retryOnRateLimit = retryOnRateLimit, :\n",
      "\"100000 tweets were requested but the API can only return 0\""
     ]
    }
   ],
   "source": [
    "library(twitteR)\n",
    "consumer_key = \"5D23Rv3HzHAbSUccbcCLNcjtN\"\n",
    "consumer_secret = \"TxJM09GTqH6AAjlus1GYO7pFX7l8F4lIh1OGcL08gdyTLI0aGO\"\n",
    "setup_twitter_oauth(consumer_key, consumer_secret, access_token=NULL, access_secret=NULL)\n",
    "tweets <- searchTwitter(\"facebook\", n=50000, lang=\"en\", since = '2018-03-01', until = '2018-03-14')\n",
    "df <- do.call(\"rbind\", lapply(tweets, as.data.frame))\n",
    "write.csv(df, \"tweets_mar01_mar14.csv\")"
   ]
  }
 ],
 "metadata": {
  "kernelspec": {
   "display_name": "R",
   "language": "R",
   "name": "ir"
  },
  "language_info": {
   "codemirror_mode": "r",
   "file_extension": ".r",
   "mimetype": "text/x-r-source",
   "name": "R",
   "pygments_lexer": "r",
   "version": "3.4.2"
  }
 },
 "nbformat": 4,
 "nbformat_minor": 2
}
