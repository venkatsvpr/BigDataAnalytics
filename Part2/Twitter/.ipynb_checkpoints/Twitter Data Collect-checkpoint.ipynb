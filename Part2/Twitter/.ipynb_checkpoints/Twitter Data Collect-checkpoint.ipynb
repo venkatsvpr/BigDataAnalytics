{
 "cells": [
  {
   "cell_type": "code",
   "execution_count": 6,
   "metadata": {},
   "outputs": [],
   "source": [
    "#install.packages(\"rtweet\")\n",
    "library(rtweet)"
   ]
  },
  {
   "cell_type": "code",
   "execution_count": null,
   "metadata": {},
   "outputs": [],
   "source": [
    "library(twitteR)\n",
    "consumer_key = \"xgvjoIF559swyiqYbI8vHFIgj\"\n",
    "consumer_secret = \"FQNVuBaV6wcuwL237056KCUrMVF8mvivmFZHL8qVYitqbozvPU\"\n",
    "setup_twitter_oauth(consumer_key, consumer_secret, access_token=NULL, access_secret=NULL)\n",
    "tweets <- searchTwitter(\"Cambridge Analytica\", n=200000, lang=\"en\", since = '2018-03-01', until = '2018-04-04')\n",
    "df <- do.call(\"rbind\", lapply(tweets, as.data.frame))\n",
    "write.csv(df, \"tweets_cambridge_analytica_feb1_april4.csv\")"
   ]
  },
  {
   "cell_type": "code",
   "execution_count": 7,
   "metadata": {},
   "outputs": [
    {
     "name": "stderr",
     "output_type": "stream",
     "text": [
      "Searching for tweets...\n",
      "Warning message:\n",
      "\"rate limit exceeded.\"Finished collecting tweets!\n"
     ]
    }
   ],
   "source": [
    "twitter_token <- create_token(app = \"Flu-DIC\",\n",
    "  consumer_key = \"xgvjoIF559swyiqYbI8vHFIgj\",\n",
    "  consumer_secret = \"FQNVuBaV6wcuwL237056KCUrMVF8mvivmFZHL8qVYitqbozvPU\")\n",
    "\n",
    "tweets <- search_tweets(q = \"facebook\", n = 20000, token = twitter_token)\n",
    "save_as_csv(tweets,\"twitter_facebook_April_4.csv\")"
   ]
  }
 ],
 "metadata": {
  "kernelspec": {
   "display_name": "R",
   "language": "R",
   "name": "ir"
  },
  "language_info": {
   "codemirror_mode": "r",
   "file_extension": ".r",
   "mimetype": "text/x-r-source",
   "name": "R",
   "pygments_lexer": "r",
   "version": "3.4.3"
  }
 },
 "nbformat": 4,
 "nbformat_minor": 2
}
