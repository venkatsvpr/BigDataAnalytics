{
 "cells": [
  {
   "cell_type": "markdown",
   "metadata": {},
   "source": [
    "## Pratibha Arjun Barsale - 50247005\n",
    "## Venkata Krishnan Anantha Raman - 50246287"
   ]
  },
  {
   "cell_type": "code",
   "execution_count": 2,
   "metadata": {},
   "outputs": [
    {
     "name": "stdout",
     "output_type": "stream",
     "text": [
      "Susan now lives in Washington\n",
      " and makes $105000.0\n",
      "Ellen now lives in Texas\n",
      " and makes $78750.0\n"
     ]
    }
   ],
   "source": [
    "#Data Types in Python\n",
    "SALARY_RAISE_FACTOR = 0.05\n",
    "STATE_CODE_MAP = {'WA': 'Washington', 'TX': 'Texas'}\n",
    "def update_employee_record(rec):\n",
    "    old_sal = rec['salary']\n",
    "    new_sal = old_sal * (1 + SALARY_RAISE_FACTOR)\n",
    "    rec['salary'] = new_sal\n",
    "    state_code = rec['state_code']\n",
    "    rec['state_name'] = STATE_CODE_MAP[state_code]\n",
    "\n",
    "input_data = [\n",
    "    {'employee_name': 'Susan', 'salary': 100000.0,\n",
    "    'state_code': 'WA'},\n",
    "    {'employee_name': 'Ellen', 'salary': 75000.0,\n",
    "    'state_code': 'TX'},\n",
    "]\n",
    "for rec in input_data:\n",
    "    update_employee_record(rec)\n",
    "    name = rec['employee_name']\n",
    "    salary = rec['salary']\n",
    "    state = rec['state_name']\n",
    "    print name + ' now lives in ' + state\n",
    "    print ' and makes $' + str(salary)"
   ]
  },
  {
   "cell_type": "code",
   "execution_count": 7,
   "metadata": {},
   "outputs": [
    {
     "name": "stdout",
     "output_type": "stream",
     "text": [
      "A\n",
      "AB\n",
      "BC\n",
      "BCD\n",
      "ABC\n"
     ]
    }
   ],
   "source": [
    "#Strings\n",
    "print \"ABCD\"[0]\n",
    "print \"ABCD\"[0:2]\n",
    "print \"ABCD\"[1:3]\n",
    "print \"ABCD\"[1:]\n",
    "print \"ABCD\"[:-1]"
   ]
  },
  {
   "cell_type": "code",
   "execution_count": 8,
   "metadata": {},
   "outputs": [],
   "source": [
    "#Comment Example\n",
    "# This whole line is a comment\n",
    "a = 5 # and the last part of this line is too"
   ]
  },
  {
   "cell_type": "code",
   "execution_count": 27,
   "metadata": {},
   "outputs": [
    {
     "name": "stdout",
     "output_type": "stream",
     "text": [
      "a \n",
      "['A ', 5.7, 'B ', [1, 2, 3]]\n",
      "[1, 2, 3, 4, 5, 6, 7, 8]\n",
      "[1, 4, 9, 16, 25, 36, 49, 64]\n",
      "[4, 16, 36, 64]\n"
     ]
    }
   ],
   "source": [
    "#Complex Data Types - Lists\n",
    "my_list = [\"a \", \"b \", \"c \"]\n",
    "print my_list[0] # prints \"a \"\n",
    "my_list[0] = \"A \" # changes that element of the list\n",
    "my_list.append(\"d \") # adds new element to the end\n",
    "# List elements can be ANYTHING\n",
    "mixed_list = [\"A \", 5.7, \"B \", [1,2,3]]\n",
    "print mixed_list\n",
    "\n",
    "original_list = [1,2,3,4,5,6,7,8]\n",
    "squares = [x*x for x in original_list]\n",
    "squares_of_evens = [x*x for x in original_list if x%2==0]\n",
    "print original_list\n",
    "print squares\n",
    "print squares_of_evens\n",
    "\n",
    "my_list = [\"a\", \"b\", \"c\"]\n",
    "print my_list\n",
    "first_two_elements = my_list[:1]\n",
    "print first_two_elements\n",
    "last_two_elements = my_list[1:]\n",
    "print last_two_elements\n",
    "all_but_last_element = my_list[:-1]\n",
    "print all_but_last_element"
   ]
  },
  {
   "cell_type": "code",
   "execution_count": 29,
   "metadata": {},
   "outputs": [
    {
     "name": "stdout",
     "output_type": "stream",
     "text": [
      "['ABC', 'DEF']\n",
      "['ABC', 'DEF']\n",
      "['ABC', '\\tDEF']\n",
      "['', 'C', 'D']\n",
      "A,B,C\n",
      "BDF\n",
      "1\n",
      "1\n",
      "2\n"
     ]
    }
   ],
   "source": [
    "#Strings and Lists\n",
    "print \"ABC DEF\".split()\n",
    "print \"ABC \\tDEF\".split()\n",
    "print \"ABC \\tDEF\".split(' ')\n",
    "print \"ABCABD\".split(\"AB\")\n",
    "\n",
    "print \",\".join([\"A\", \"B\", \"C\"])\n",
    "\n",
    "start, end, count_by = 1, 7, 2\n",
    "print \"ABCDEFG\"[start: end: count_by]\n",
    "\n",
    "#Tuples\n",
    "my_tuple = (1, 2)\n",
    "print my_tuple[0] # prints 1\n",
    "zeroth_field, first_field = my_tuple\n",
    "print zeroth_field\n",
    "print first_field"
   ]
  },
  {
   "cell_type": "code",
   "execution_count": 34,
   "metadata": {},
   "outputs": [
    {
     "name": "stdout",
     "output_type": "stream",
     "text": [
      "1\n",
      "{'January': 'Start of the year', 'February': 2, 'March': 3}\n",
      "{'two': 2, 'one': 1}\n",
      "[('two', 2), ('one', 1)]\n"
     ]
    }
   ],
   "source": [
    "#Dictionaries\n",
    "my_dict = {\"January\": 1, \"February\":2}\n",
    "print my_dict[\"January\"] # prints 1\n",
    "my_dict[\"March\"] = 3 # add new element\n",
    "my_dict[\"January\"] = \"Start of the year\" # overwrite old value\n",
    "print my_dict\n",
    "\n",
    "pairs = [(\"one\",1), (\"two\",2)]\n",
    "as_dict = dict(pairs)\n",
    "print as_dict\n",
    "same_as_pairs = as_dict.items()\n",
    "print same_as_pairs"
   ]
  },
  {
   "cell_type": "code",
   "execution_count": 36,
   "metadata": {},
   "outputs": [
    {
     "name": "stdout",
     "output_type": "stream",
     "text": [
      "False\n",
      "True\n"
     ]
    }
   ],
   "source": [
    "#Sets\n",
    "s = set()\n",
    "print 5 in s\n",
    "s.add(5)\n",
    "print 5 in s\n",
    "s.add(5) # does nothing"
   ]
  },
  {
   "cell_type": "code",
   "execution_count": 43,
   "metadata": {},
   "outputs": [
    {
     "name": "stdout",
     "output_type": "stream",
     "text": [
      "25\n",
      "4\n",
      "8\n",
      "25\n",
      "[4, 16]\n"
     ]
    }
   ],
   "source": [
    "#Defining Functions\n",
    "def my_function(x):\n",
    "    y = x+1\n",
    "    x_sqrd = x*x\n",
    "    return x_sqrd\n",
    "five_plus_one_sqrd = my_function(5)\n",
    "print five_plus_one_sqrd\n",
    "\n",
    "def raise_value(x, n=2):\n",
    "    return pow(x,n)\n",
    "\n",
    "two_sqrd = raise_value(2)\n",
    "two_cubed = raise_value(2, n=3)\n",
    "print two_sqrd\n",
    "print two_cubed\n",
    "\n",
    "sqr = lambda x : x*x\n",
    "five_sqrd = sqr(5)\n",
    "print five_sqrd\n",
    "\n",
    "def apply_to_evens(a_list, a_func):\n",
    "    return [a_func(x) for x in a_list if x%2==0]\n",
    "my_list = [1,2,3,4,5]\n",
    "sqrs_of_evens = apply_to_evens(my_list, lambda x:x*x)\n",
    "print sqrs_of_evens"
   ]
  },
  {
   "cell_type": "code",
   "execution_count": 51,
   "metadata": {},
   "outputs": [
    {
     "name": "stdout",
     "output_type": "stream",
     "text": [
      "the number is  1\n",
      "the number is  2\n",
      "the number is  3\n",
      "the value for  January  is  Start of the year\n",
      "the value for  February  is  2\n",
      "the value for  March  is  3\n",
      "i is greater than 5\n",
      "i is still less than five\n",
      "i is still less than five\n",
      "i is still less than five\n",
      "i is still less than five\n",
      "i is still less than five\n"
     ]
    }
   ],
   "source": [
    "#For Loops and Control Structures\n",
    "my_list = [1, 2, 3]\n",
    "for x in my_list:\n",
    "    print \"the number is \", x\n",
    "\n",
    "for key, value in my_dict.items():\n",
    "    print \"the value for \", key, \" is \", value\n",
    "    \n",
    "i = 10\n",
    "if i < 3:\n",
    "    print \"i is less than three\"\n",
    "elif i < 5: \n",
    "    print \"i is between 3 and 5\"\n",
    "else: \n",
    "    print \"i is greater than 5\"\n",
    "    \n",
    "i = 0\n",
    "while i < 5:\n",
    "    print \"i is still less than five\"\n",
    "    i = i+1"
   ]
  },
  {
   "cell_type": "code",
   "execution_count": 52,
   "metadata": {},
   "outputs": [
    {
     "name": "stdout",
     "output_type": "stream",
     "text": [
      "There were < 10 lines\n"
     ]
    }
   ],
   "source": [
    "#Exception Handling\n",
    "try:\n",
    "    lines = input_text.split(\"\\n\")\n",
    "    print \"tenth line was: \", lines[9]\n",
    "except:\n",
    "    print \"There were < 10 lines\""
   ]
  },
  {
   "cell_type": "code",
   "execution_count": 54,
   "metadata": {},
   "outputs": [
    {
     "name": "stdout",
     "output_type": "stream",
     "text": [
      "bark bark!!\n"
     ]
    }
   ],
   "source": [
    "#Classes and Objects\n",
    "class Dog:\n",
    "    def __init__(self, name):\n",
    "        self.name = name\n",
    "    def respond_to_command(self, command):\n",
    "        if command == self.name: self.speak()\n",
    "    def speak(self):\n",
    "        print \"bark bark!!\"\n",
    "\n",
    "fido = Dog(\"fido\")\n",
    "fido.respond_to_command(\"spot\") # does nothing\n",
    "fido.respond_to_command(\"fido\") # prints bark bark"
   ]
  },
  {
   "cell_type": "code",
   "execution_count": 57,
   "metadata": {},
   "outputs": [
    {
     "name": "stdout",
     "output_type": "stream",
     "text": [
      "6\n",
      "5\n",
      "[5]\n"
     ]
    }
   ],
   "source": [
    "#Hashable and Unhashable Types\n",
    "a = 5 # a is a hashable int\n",
    "b = a # b points to a COPY of a\n",
    "a = a + 1\n",
    "print a\n",
    "print b # b has NOT been incremented\n",
    "A = [] # A is an UNhashable list\n",
    "B = A # B points to the SAME list as A.\n",
    "A.append(5)\n",
    "print B"
   ]
  },
  {
   "cell_type": "code",
   "execution_count": 62,
   "metadata": {},
   "outputs": [
    {
     "name": "stdout",
     "output_type": "stream",
     "text": [
      "RangeIndex(start=0, stop=3, step=1)\n",
      "Index([u'Bob', u'Alex', u'Jane'], dtype='object', name=u'name')\n",
      "60\n"
     ]
    },
    {
     "name": "stderr",
     "output_type": "stream",
     "text": [
      "C:\\Users\\prati\\Anaconda3\\envs\\py27\\lib\\site-packages\\ipykernel_launcher.py:15: DeprecationWarning: \n",
      ".ix is deprecated. Please use\n",
      ".loc for label based indexing or\n",
      ".iloc for positional indexing\n",
      "\n",
      "See the documentation here:\n",
      "http://pandas.pydata.org/pandas-docs/stable/indexing.html#ix-indexer-is-deprecated\n",
      "  from ipykernel import kernelapp as app\n"
     ]
    }
   ],
   "source": [
    "import pandas as pd\n",
    "# Making data frame from a dictionary\n",
    "# that maps column names to their values\n",
    "df = pd.DataFrame({\n",
    "\"name\": [\"Bob\", \"Alex\", \"Jane\"],\n",
    "\"age\": [60, 25, 33]\n",
    "})\n",
    "\n",
    "print df.index # prints 0‐2, the line numbers\n",
    "# Create a DataFrame containing the same data,\n",
    "# but where name is the index\n",
    "df_w_name_as_ind = df.set_index(\"name\")\n",
    "print df_w_name_as_ind.index # prints their names\n",
    "# Get the row for Bob\n",
    "bobs_row = df_w_name_as_ind.ix[\"Bob\"]\n",
    "print bobs_row[\"age\"] # prints 60"
   ]
  },
  {
   "cell_type": "code",
   "execution_count": 68,
   "metadata": {},
   "outputs": [
    {
     "name": "stdout",
     "output_type": "stream",
     "text": [
      "0    1\n",
      "1    2\n",
      "2    3\n",
      "dtype: int64\n",
      "0    3\n",
      "1    4\n",
      "2    5\n",
      "dtype: int64\n",
      "0    5\n",
      "1    6\n",
      "2    8\n",
      "dtype: int64\n"
     ]
    }
   ],
   "source": [
    "#Series\n",
    "import pandas as pd\n",
    "s = pd.Series([1,2,3]) # make Series from list\n",
    "print s\n",
    "print s+2\n",
    "print s + pd.Series([4,4,5])\n"
   ]
  },
  {
   "cell_type": "code",
   "execution_count": 71,
   "metadata": {},
   "outputs": [
    {
     "name": "stdout",
     "output_type": "stream",
     "text": [
      "        age  height\n",
      "name               \n",
      "Tom      60     6.2\n",
      "Tyrell   25     4.0\n",
      "Claire   33     5.5\n",
      "     name  age  height\n",
      "0     Tom   60     6.2\n",
      "1  Tyrell   25     4.0\n",
      "2  Claire   33     5.5\n",
      "         age  height\n",
      "gender              \n",
      "F       33.0     5.5\n",
      "M       42.5     5.1\n",
      "        mean_height    name  oldest\n",
      "gender                             \n",
      "F               5.5  Claire      33\n",
      "M               5.1  Tyrell      60\n"
     ]
    }
   ],
   "source": [
    "#Joining and Grouping\n",
    "df_w_age = pd.DataFrame({\n",
    "\"name\": [\"Tom\", \"Tyrell\", \"Claire\"],\n",
    "\"age\": [60, 25, 33]\n",
    "})\n",
    "df_w_height = pd.DataFrame({\n",
    "\"name\": [\"Tom\", \"Tyrell\", \"Claire\"],\n",
    "\"height\": [6.2, 4.0, 5.5]\n",
    "})\n",
    "joined = df_w_age.set_index(\"name\").join(\n",
    "df_w_height.set_index(\"name\"))\n",
    "print joined\n",
    "print joined.reset_index()\n",
    "\n",
    "\n",
    "\n",
    "df = pd.DataFrame({\n",
    "\"name\": [\"Tom\", \"Tyrell\", \"Claire\"],\n",
    "\"age\": [60, 25, 33],\n",
    "\"height\": [6.2, 4.0, 5.5],\n",
    "\"gender\": [\"M\", \"M\", \"F\"]\n",
    "})\n",
    "# use built-in aggregates\n",
    "print df.groupby(\"gender\").mean()\n",
    "medians = df.groupby(\"gender\").quantile(0.5)\n",
    "# Use a custom aggregation function\n",
    "def agg(ddf):\n",
    "    return pd.Series({\n",
    "    \"name\": max(ddf[\"name\"]),\n",
    "    \"oldest\": max(ddf[\"age\"]),\n",
    "    \"mean_height\": ddf[\"height\"].mean()\n",
    "    })\n",
    "print df.groupby(\"gender\").apply(agg)"
   ]
  }
 ],
 "metadata": {
  "kernelspec": {
   "display_name": "Python 2",
   "language": "python",
   "name": "python2"
  },
  "language_info": {
   "codemirror_mode": {
    "name": "ipython",
    "version": 2
   },
   "file_extension": ".py",
   "mimetype": "text/x-python",
   "name": "python",
   "nbconvert_exporter": "python",
   "pygments_lexer": "ipython2",
   "version": "2.7.14"
  }
 },
 "nbformat": 4,
 "nbformat_minor": 2
}
